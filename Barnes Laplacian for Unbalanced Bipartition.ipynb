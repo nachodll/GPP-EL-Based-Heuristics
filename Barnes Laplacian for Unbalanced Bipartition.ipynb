{
 "cells": [
  {
   "cell_type": "code",
   "execution_count": 36,
   "metadata": {},
   "outputs": [],
   "source": [
    "import GPP\n",
    "import numpy as np\n",
    "import random\n",
    "import sympy as sym"
   ]
  },
  {
   "cell_type": "code",
   "execution_count": 299,
   "metadata": {},
   "outputs": [
    {
     "data": {
      "text/plain": [
       "<module 'GPP' from 'C:\\\\Users\\\\nacho\\\\OneDrive\\\\Infor\\\\5 (Sicue)\\\\TFG\\\\Implementation\\\\GPP.py'>"
      ]
     },
     "execution_count": 299,
     "metadata": {},
     "output_type": "execute_result"
    }
   ],
   "source": [
    "import importlib\n",
    "importlib.reload(GPP)"
   ]
  },
  {
   "cell_type": "markdown",
   "metadata": {},
   "source": [
    "# BARNES LAPLACIA FOR UNBALANCED BIPARTITION"
   ]
  },
  {
   "cell_type": "code",
   "execution_count": 2,
   "metadata": {},
   "outputs": [],
   "source": [
    "def random_johnson_graph (n, p):\n",
    "    G = []\n",
    "    for i in range(n+1):\n",
    "        G.append([])\n",
    "    G[0] = [n, 0]\n",
    "    for i in range(1, n+1):\n",
    "        for j in range(i+1, n+1):\n",
    "            if random.random() < p:\n",
    "                G[0][1] += 1\n",
    "                G[i].append(j)\n",
    "                G[j].append(i)\n",
    "    return G"
   ]
  },
  {
   "cell_type": "code",
   "execution_count": 3,
   "metadata": {},
   "outputs": [],
   "source": [
    "def graph_to_file (G, filename):\n",
    "    gstr = ''\n",
    "    for line in G:\n",
    "        for number in line:\n",
    "            gstr += str(number) + ' '\n",
    "        gstr += '\\n'\n",
    "    \n",
    "    with open(filename, 'w') as f:\n",
    "        f.write(gstr)\n",
    "    return"
   ]
  },
  {
   "cell_type": "code",
   "execution_count": 19,
   "metadata": {},
   "outputs": [],
   "source": [
    "def all_solutions_unbalanced (n):\n",
    "    \n",
    "    sols = []\n",
    "    for i in range (2**n):\n",
    "        s = [int(d) for d in str(format(i, '0{}b'.format(n)))]\n",
    "        if (s.count(0)>0 and s.count(1)>0):\n",
    "            sols.append(s)\n",
    "    \n",
    "    return sols"
   ]
  },
  {
   "cell_type": "code",
   "execution_count": 23,
   "metadata": {},
   "outputs": [],
   "source": [
    "def are_neighbors_hamming (x, y):\n",
    "    neighbor = False\n",
    "    diff = (x - y).tolist()\n",
    "    # diff list has as many 0s as equal positions have 'x' and 'y'\n",
    "    if ((len(diff) - diff.count(0)) ==  1):\n",
    "        neighbor = True\n",
    "\n",
    "    return neighbor"
   ]
  },
  {
   "cell_type": "code",
   "execution_count": 75,
   "metadata": {},
   "outputs": [],
   "source": [
    "n = 4\n",
    "k = 2\n",
    "reps = 10"
   ]
  },
  {
   "cell_type": "code",
   "execution_count": 76,
   "metadata": {},
   "outputs": [
    {
     "name": "stdout",
     "output_type": "stream",
     "text": [
      "Checking graph 0\n",
      "   SOLUTION FOUND: {a: 3.50000000000000}\n",
      "Checking graph 1\n",
      "   SOLUTION FOUND: {a: 0.0}\n",
      "Checking graph 2\n",
      "Checking graph 3\n",
      "Checking graph 4\n",
      "   SOLUTION FOUND: {a: 3.50000000000000}\n",
      "Checking graph 5\n",
      "Checking graph 6\n",
      "Checking graph 7\n",
      "Checking graph 8\n",
      "Checking graph 9\n"
     ]
    }
   ],
   "source": [
    "for i in range(reps):\n",
    "    print('Checking graph ' + str(i))\n",
    "    \n",
    "    # Generate a random graph and saved it\n",
    "    p = random.random()\n",
    "    G = random_johnson_graph(n, p)\n",
    "    filename = 'random_graphs/' + str(i) + '-G' + str(n) + '.' + str(round(p, 3)).split('.')[-1] + '.graph'\n",
    "    graph_to_file(G, filename)\n",
    "    gpp = GPP.GPP(filename, k)\n",
    "    \n",
    "    # Search space\n",
    "    X = np.array(all_solutions_unbalanced(n))\n",
    "    \n",
    "    # Objective function\n",
    "    ff = np.array([gpp.f(x) for x in X])\n",
    "    \n",
    "    # Adjacency Matrix\n",
    "    A = np.zeros([X.shape[0], X.shape[0]], dtype='int')\n",
    "    for i in range(X.shape[0]):\n",
    "        for j in range (X.shape[0]):\n",
    "            if (are_neighbors_hamming(X[i], X[j])):\n",
    "                A[i][j] = 1\n",
    "\n",
    "    # Degree Matrix\n",
    "    D = np.zeros([X.shape[0], X.shape[0]], dtype='int')\n",
    "    for i in range(A.shape[0]):\n",
    "        D[i][i] = np.count_nonzero(A[i])\n",
    "\n",
    "    # Barnes Laplacian\n",
    "    Dinv = np.linalg.inv(D)\n",
    "    I = np.identity(A.shape[0])\n",
    "    L = I - np.matmul(Dinv, A)\n",
    "    \n",
    "    # Compute eigenvalues\n",
    "    eigvals, eigvecs = np.linalg.eig(L)\n",
    "    \n",
    "    # Check if the system has a solution\n",
    "    solvable = False\n",
    "    for lamb in eigvals:\n",
    "        a = sym.Symbol('a')\n",
    "        izq = L @ (ff-a)\n",
    "        der = lamb * (ff-a)\n",
    "        sol = sym.solve(izq - der, a)\n",
    "        if sol:\n",
    "            solvable = True\n",
    "            solution = sol\n",
    "    if solvable:\n",
    "        print('   SOLUTION FOUND: ' +str(solution))"
   ]
  },
  {
   "cell_type": "code",
   "execution_count": null,
   "metadata": {},
   "outputs": [],
   "source": []
  }
 ],
 "metadata": {
  "kernelspec": {
   "display_name": "Python 3",
   "language": "python",
   "name": "python3"
  },
  "language_info": {
   "codemirror_mode": {
    "name": "ipython",
    "version": 3
   },
   "file_extension": ".py",
   "mimetype": "text/x-python",
   "name": "python",
   "nbconvert_exporter": "python",
   "pygments_lexer": "ipython3",
   "version": "3.7.9"
  }
 },
 "nbformat": 4,
 "nbformat_minor": 4
}
